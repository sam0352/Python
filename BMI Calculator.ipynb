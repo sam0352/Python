{
  "nbformat": 4,
  "nbformat_minor": 0,
  "metadata": {
    "colab": {
      "name": "Untitled0.ipynb",
      "provenance": [],
      "authorship_tag": "ABX9TyPB6A90t9A6PhK96yXiBgIO",
      "include_colab_link": true
    },
    "kernelspec": {
      "name": "python3",
      "display_name": "Python 3"
    },
    "language_info": {
      "name": "python"
    }
  },
  "cells": [
    {
      "cell_type": "markdown",
      "metadata": {
        "id": "view-in-github",
        "colab_type": "text"
      },
      "source": [
        "<a href=\"https://colab.research.google.com/github/sam0352/Python/blob/main/BMI%20Calculator.ipynb\" target=\"_parent\"><img src=\"https://colab.research.google.com/assets/colab-badge.svg\" alt=\"Open In Colab\"/></a>"
      ]
    },
    {
      "cell_type": "code",
      "execution_count": null,
      "metadata": {
        "id": "YmkbtTlCo7fX"
      },
      "outputs": [],
      "source": [
        ""
      ]
    },
    {
      "cell_type": "code",
      "source": [
        "weight = 55\n",
        "height = 175\n",
        "bmi = weight/height/height*10000\n",
        "# print(bmi)\n",
        "# Underweight - bmi<18.5\n",
        "# normarl -  bmi > 18.5 and bmi < 24.9\n",
        "# overweight - bmi > 25 and bmi < 29.9\n",
        "# obesity- bmi>30\n",
        "a = 18.5\n",
        "b = 24.9\n",
        "c = 25\n",
        "d = 29.9\n",
        "e = 30\n",
        "\n",
        "if((bmi<a)):\n",
        "    print(bmi, \" Underweight\")\n",
        "elif((bmi>a and bmi<b)):\n",
        "    print(bmi, \" Normal\")\n",
        "elif((bmi>c and bmi<d)):\n",
        "    print(bmi, \" Overweight\")\n",
        "elif((bmi>e)):\n",
        "    print(bmi, \" Obesity\")\n",
        "else:\n",
        "    print(\"Please enter valid details!\")"
      ],
      "metadata": {
        "colab": {
          "base_uri": "https://localhost:8080/"
        },
        "id": "wVhUp5uXo8FA",
        "outputId": "b75b45b9-16e7-4a5c-f6ba-7129fea1b8dc"
      },
      "execution_count": 1,
      "outputs": [
        {
          "output_type": "stream",
          "name": "stdout",
          "text": [
            "17.959183673469386  Underweight\n"
          ]
        }
      ]
    }
  ]
}